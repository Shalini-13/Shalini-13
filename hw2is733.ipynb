{
  "nbformat": 4,
  "nbformat_minor": 0,
  "metadata": {
    "colab": {
      "provenance": [],
      "toc_visible": true,
      "authorship_tag": "ABX9TyNZtFD8qll3r5ykQkp0SM2C",
      "include_colab_link": true
    },
    "kernelspec": {
      "name": "python3",
      "display_name": "Python 3"
    },
    "language_info": {
      "name": "python"
    }
  },
  "cells": [
    {
      "cell_type": "markdown",
      "metadata": {
        "id": "view-in-github",
        "colab_type": "text"
      },
      "source": [
        "<a href=\"https://colab.research.google.com/github/Shalini-13/Shalini-13/blob/main/hw2is733.ipynb\" target=\"_parent\"><img src=\"https://colab.research.google.com/assets/colab-badge.svg\" alt=\"Open In Colab\"/></a>"
      ]
    },
    {
      "cell_type": "code",
      "execution_count": null,
      "metadata": {
        "id": "KpDyzzb9ZY32"
      },
      "outputs": [],
      "source": [
        "import pandas as pd\n",
        "import numpy as np\n",
        "from sklearn.model_selection import train_test_split\n",
        "from sklearn.preprocessing import LabelEncoder\n",
        "from sklearn.naive_bayes import GaussianNB\n",
        "from sklearn.neighbors import KNeighborsClassifier"
      ]
    },
    {
      "cell_type": "code",
      "source": [
        "data = pd.read_csv(\"/content/hamspam.csv.csv\")"
      ],
      "metadata": {
        "id": "4aw2wIc0Z616"
      },
      "execution_count": null,
      "outputs": []
    },
    {
      "cell_type": "code",
      "source": [
        "le = LabelEncoder()\n",
        "data['Contains Link'] = le.fit_transform(data['Contains Link'])\n",
        "data['Contains Money Words'] = le.fit_transform(data['Contains Money Words'])\n",
        "data['Length'] = le.fit_transform(data['Length'])\n",
        "data['Class'] = le.fit_transform(data['Class'])"
      ],
      "metadata": {
        "id": "MHIHHUAraGvK"
      },
      "execution_count": null,
      "outputs": []
    },
    {
      "cell_type": "code",
      "source": [
        "X = data[['Contains Link', 'Contains Money Words', 'Length']]\n",
        "y = data['Class']"
      ],
      "metadata": {
        "id": "vuyb6v6jaIi1"
      },
      "execution_count": null,
      "outputs": []
    },
    {
      "cell_type": "code",
      "source": [
        "X_train, X_test, y_train, y_test = train_test_split(X, y, test_size=0.2, random_state=42)\n",
        "\n",
        "# Train Naïve Bayes model\n",
        "nb_model = GaussianNB()\n",
        "nb_model.fit(X_train, y_train)\n",
        "\n",
        "# Train KNN model (K=2)\n",
        "knn_model = KNeighborsClassifier(n_neighbors=2, metric='euclidean')\n",
        "knn_model.fit(X_train, y_train)\n",
        "\n",
        "# Test example\n",
        "test_example = np.array([[1, 1, 1]])"
      ],
      "metadata": {
        "id": "QUtTWAQzaO5d"
      },
      "execution_count": null,
      "outputs": []
    },
    {
      "cell_type": "code",
      "source": [
        "nb_pred = nb_model.predict(test_example)\n",
        "print(\"Naïve Bayes Prediction:\", \"Spam\" if nb_pred[0] == 1 else \"Ham\")\n",
        "\n",
        "# KNN Prediction\n",
        "knn_pred = knn_model.predict(test_example)\n",
        "print(\"KNN Prediction:\", \"Spam\" if knn_pred[0] == 1 else \"Ham\")\n",
        "\n"
      ],
      "metadata": {
        "colab": {
          "base_uri": "https://localhost:8080/"
        },
        "id": "wNZnmGTHaXvA",
        "outputId": "53329a6c-e513-40c6-f197-4acf8aad194d"
      },
      "execution_count": null,
      "outputs": [
        {
          "output_type": "stream",
          "name": "stdout",
          "text": [
            "Naïve Bayes Prediction: Ham\n",
            "KNN Prediction: Ham\n"
          ]
        },
        {
          "output_type": "stream",
          "name": "stderr",
          "text": [
            "/usr/local/lib/python3.11/dist-packages/sklearn/utils/validation.py:2739: UserWarning: X does not have valid feature names, but GaussianNB was fitted with feature names\n",
            "  warnings.warn(\n",
            "/usr/local/lib/python3.11/dist-packages/sklearn/utils/validation.py:2739: UserWarning: X does not have valid feature names, but KNeighborsClassifier was fitted with feature names\n",
            "  warnings.warn(\n"
          ]
        }
      ]
    },
    {
      "cell_type": "code",
      "source": [
        "print(\"Naïve Bayes Accuracy:\", nb_model.score(X_test, y_test))\n",
        "print(\"KNN Accuracy:\", knn_model.score(X_test, y_test))"
      ],
      "metadata": {
        "id": "XVhJuPv9ap_E",
        "outputId": "5f216241-ee5c-4f4e-9c06-8f1230bf5a04",
        "colab": {
          "base_uri": "https://localhost:8080/"
        }
      },
      "execution_count": null,
      "outputs": [
        {
          "output_type": "stream",
          "name": "stdout",
          "text": [
            "Naïve Bayes Accuracy: 0.535\n",
            "KNN Accuracy: 0.515\n"
          ]
        }
      ]
    }
  ]
}